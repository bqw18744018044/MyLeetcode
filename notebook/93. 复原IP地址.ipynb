{
 "cells": [
  {
   "cell_type": "markdown",
   "metadata": {},
   "source": [
    "### 一、题目描述\n",
    "给定一个只包含数字的字符串，复原它并返回所有可能的 IP 地址格式。\n",
    "\n",
    "示例:\n",
    "\n",
    "> 输入: \"25525511135\"\n",
    ">\n",
    "> 输出: [\"255.255.11.135\", \"255.255.111.35\"]"
   ]
  },
  {
   "cell_type": "markdown",
   "metadata": {},
   "source": [
    "### 二、思路\n",
    "回溯。从前向后，尝试所有的可能结果。例如，对于“25525511135”来说，IP地址中的第一个数字可能是2，25或者255。如果第一个数字为255的话，第二个数字可能是2，25或者255。但是，在确定IP地址的过程中有两个主要的限制条件：\n",
    "> 1.IP地址中的每一个数字均介于区间[0,255]；\n",
    ">\n",
    "> 2.整个字符串要转换为IP地址，但是不能有多余的数字；\n",
    "\n",
    "因此，在确定IP地址的某一个数字时，需要判断是否满足上述的两个条件。"
   ]
  },
  {
   "cell_type": "markdown",
   "metadata": {},
   "source": [
    "### 三、实现\n",
    "```C++\n",
    "#include <iostream>\n",
    "#include <vector>\n",
    "\n",
    "using namespace std;\n",
    "\n",
    "void restoreIpAddressesCore(int start, int depth, string path, string s, vector<string>& res){\n",
    "    if(depth==4){// 如果已经完成了4个数字的确定，那么IP地址也就确定了\n",
    "        path.pop_back();//删除多于的'.'\n",
    "        res.push_back(path);\n",
    "        return;\n",
    "    }\n",
    "    int n = s.size();\n",
    "    // 当前数字位数的最小值为max(1, 后续数字均为三位数所剩余下的数字)\n",
    "    int endMin = max(start + 1, n - (3 - depth) * 3);\n",
    "    int endMax = min(start + 3, n - (3 - depth));\n",
    "    for(int end = endMin; end <= endMax; end++) {\n",
    "        string split = s.substr(start, end - start); // end - start 表示截取长度\n",
    "        int splitLen = split.size();\n",
    "        if(splitLen > 1 && split[0] == '0') { //当长度>1时, 第一位不能为0\n",
    "            break;\n",
    "        }\n",
    "        if(stoi(split) <= 255) {\n",
    "            restoreIpAddressesCore(end, depth + 1, path + (split + '.'), s, res);\n",
    "        }\n",
    "    }\n",
    "}\n",
    "\n",
    "vector<string> restoreIpAddresses(string s) {\n",
    "    vector<string> res;\n",
    "    int size = s.size();\n",
    "    restoreIpAddressesCore(0,0,\"\",s, res);\n",
    "    return res;\n",
    "}\n",
    "\n",
    "int main(){\n",
    "    vector<string> res = restoreIpAddresses(\"25525511135\");\n",
    "    for(auto r:res)cout<<r<<endl;\n",
    "    return 0;\n",
    "}\n",
    "\n",
    "```"
   ]
  }
 ],
 "metadata": {
  "kernelspec": {
   "display_name": "Python 3",
   "language": "python",
   "name": "python3"
  },
  "language_info": {
   "codemirror_mode": {
    "name": "ipython",
    "version": 3
   },
   "file_extension": ".py",
   "mimetype": "text/x-python",
   "name": "python",
   "nbconvert_exporter": "python",
   "pygments_lexer": "ipython3",
   "version": "3.7.3"
  }
 },
 "nbformat": 4,
 "nbformat_minor": 2
}
