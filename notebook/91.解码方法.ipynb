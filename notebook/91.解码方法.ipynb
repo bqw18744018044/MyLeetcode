{
 "cells": [
  {
   "cell_type": "markdown",
   "metadata": {},
   "source": [
    "### 一、题目描述\n",
    "一条包含字母 A-Z 的消息通过以下方式进行了编码：\n",
    "\n",
    ">'A' -> 1\n",
    ">\n",
    ">'B' -> 2\n",
    ">\n",
    ">...\n",
    ">\n",
    ">'Z' -> 26\n",
    "\n",
    "给定一个只包含数字的非空字符串s，请计算解码方法的总数。\n",
    "\n",
    "### 二、思路\n",
    "动态规划。\n",
    "<br/>\n",
    "令$dp[i]$表示前i个字符组成的字符串可能解码方法的总数。假设$dp[1],dp[2],\\dots,dp[i-1]$均已知，那么分情况讨论$dp[i]$的取值。\n",
    "#### 情况1：讨论$s[i]$是否可以解码\n",
    "若字符$0<s[i]\\le9$,即$s[i]$可以解码，那么该种情况下的解码总数num1=dp[i-1]；若字符$s[i]$不可以解码则num1=0.\n",
    "#### 情况2： 讨论$s[i-1,i]$是否可以解码\n",
    "若$10\\le s[i-1,i]\\le 26$，即$s[i-1,i]$可以解码，那么该种情况下的解码总数num2=dp[i-2]；若$s[i-1,i]$不可解码则num2=0.\n",
    "#### 汇总\n",
    "因此$dp[i]=num1+num2$\n",
    "\n",
    "### 三、实现\n",
    "```C++\n",
    "    int numDecodings(string s) {\n",
    "        int size = s.size();\n",
    "        if(size==0)return 1;\n",
    "        if(size==1){\n",
    "            if(canBeDecode(s))return 1;\n",
    "            else return 0;\n",
    "        }\n",
    "        vector<int> dp(size);\n",
    "        if(canDecode_one(s[0]))dp[0]=1;\n",
    "        dp[1] = (canDecode_one(s[1])?dp[0]:0)+(canDecode_two(s[0],s[1])?1:0);\n",
    "        for(int i=2;i<size;++i){\n",
    "            dp[i] = (canDecode_one(s[i])?dp[i-1]:0)+(canDecode_two(s[i-1],s[i])?dp[i-2]:0);\n",
    "        }\n",
    "        return dp[size-1];\n",
    "    }\n",
    "    // 判断单个字符是否能够解码\n",
    "    bool canDecode_one(char ch){\n",
    "        return (ch-'0'>0)&&(ch-'0')<=9;\n",
    "    }\n",
    "    // 判断两个字符是否能够解码\n",
    "    bool canDecode_two(char ch1, char ch2){\n",
    "        return ch1=='1'||(ch1=='2'&&ch2-'0'>=0&&ch2-'0'<=6);\n",
    "    }\n",
    "```"
   ]
  }
 ],
 "metadata": {
  "kernelspec": {
   "display_name": "Python 3",
   "language": "python",
   "name": "python3"
  },
  "language_info": {
   "codemirror_mode": {
    "name": "ipython",
    "version": 3
   },
   "file_extension": ".py",
   "mimetype": "text/x-python",
   "name": "python",
   "nbconvert_exporter": "python",
   "pygments_lexer": "ipython3",
   "version": "3.7.3"
  }
 },
 "nbformat": 4,
 "nbformat_minor": 2
}
