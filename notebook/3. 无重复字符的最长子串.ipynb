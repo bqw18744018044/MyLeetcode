{
 "cells": [
  {
   "cell_type": "markdown",
   "metadata": {},
   "source": [
    "### 一、题目描述\n",
    "给定一个字符串，请你找出其中不含有重复字符的最长子串的长度。\n",
    "### 二、思路\n",
    "方法：动态规划，大问题的解决是基于同类小问题的解决。\n",
    "<br/>\n",
    "给定一个长度为n字符串s。设$dp[i]$表示以字符串第i个字符为结尾的最长子串的长度。如果第i+1个字符先前没有出现过或者该字符不在$dp[i]$所表示的长子串中，那么显然$$dp[i+1]=dp[i]+1$$\n",
    "反之，如果第i+1个字符出现在以第i个字符为结尾的最长子串中，则$$dp[i+1]=i+1-pos[s[i+1]]$$，其中$pos[s[i+1]]$表示字符串s中的第i+1个字符串上一次出现的位置。\n",
    "以此类推，最终的结果为$max(dp[1],dp[2],\\dots,dp[n])$。\n",
    "<br/>\n",
    "在具体实现时，由于$dp[i+1]$的取值最多有$dp[i]$决定，因此不需要保留整个dp数组，仅需要一个变量来保留上一个位置的dp值。另外，可以使用字典来存储某个字符上一次出现的位置。\n",
    "### 三、实现\n",
    "```C++\n",
    "int lengthOfLongestSubstring(string s) {\n",
    "    int size = s.size();\n",
    "    if(size<=1)return size;\n",
    "    unordered_map<char,int> hmap; // 用于记录字符上一次出现的位置\n",
    "    int curMaxLength = 0; // 存储上一个位置的最长子串的长度\n",
    "    int MaxLength = 0; // 存在全局的最长子串长度\n",
    "    for(int i=0;i<size;i++){\n",
    "        // 之前未出现过该字符\n",
    "        if(hmap.find(s[i])==hmap.end())curMaxLength++;\n",
    "        else{\n",
    "            int start = i - curMaxLength;\n",
    "            if(hmap[s[i]]<start)curMaxLength++; // 之前出现过该字符，但是不影响当前的最长子串长度\n",
    "            else curMaxLength = i-hmap[s[i]]; // 之前出现过该字符，并且影响当前的最长子串长度\n",
    "        }\n",
    "        hmap[s[i]] = i; //更少字符s[i]的出现位置\n",
    "        if(curMaxLength>MaxLength)MaxLength=curMaxLength;\n",
    "    }\n",
    "    return MaxLength;\n",
    "}\n",
    "```\n",
    "### 四、复杂度分析\n",
    "#### 4.1 时间复杂度分析\n",
    "整个算法会扫一遍字符串s，而其中查找某个字符上一次出现的位置使用的是hashMap(每次查找时间复杂度为$O(1)$)，因此整个算法的时间复杂度为$O(n)$。\n",
    "#### 4.2 空间复杂度分析\n",
    "主要是由hmap来决定的，而hmap的大小取决于字符串s中包含的字符种类，设该种类为m，则空间复杂度为$O(m)$。"
   ]
  }
 ],
 "metadata": {
  "kernelspec": {
   "display_name": "Python 3",
   "language": "python",
   "name": "python3"
  },
  "language_info": {
   "codemirror_mode": {
    "name": "ipython",
    "version": 3
   },
   "file_extension": ".py",
   "mimetype": "text/x-python",
   "name": "python",
   "nbconvert_exporter": "python",
   "pygments_lexer": "ipython3",
   "version": "3.7.3"
  }
 },
 "nbformat": 4,
 "nbformat_minor": 2
}
